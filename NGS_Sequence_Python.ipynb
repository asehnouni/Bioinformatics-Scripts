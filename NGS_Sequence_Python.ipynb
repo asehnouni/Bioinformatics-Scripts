{
 "cells": [
  {
   "cell_type": "markdown",
   "metadata": {},
   "source": [
    "# NGS Sequence Slim"
   ]
  },
  {
   "cell_type": "code",
   "execution_count": 1,
   "metadata": {},
   "outputs": [],
   "source": [
    "import pandas as pd\n",
    "import os"
   ]
  },
  {
   "cell_type": "markdown",
   "metadata": {},
   "source": [
    "# Functions "
   ]
  },
  {
   "cell_type": "code",
   "execution_count": 2,
   "metadata": {},
   "outputs": [],
   "source": [
    "def drop_unnamed_columns(df): \n",
    "    return df.loc[:, ~df.columns.str.contains('^Unnamed')]"
   ]
  },
  {
   "cell_type": "code",
   "execution_count": 3,
   "metadata": {},
   "outputs": [],
   "source": [
    "def read_csv_with_na(filepath):\n",
    "    df = pd.read_csv(filepath)\n",
    "    return df.fillna('N/A')"
   ]
  },
  {
   "cell_type": "code",
   "execution_count": 4,
   "metadata": {},
   "outputs": [],
   "source": [
    "# Introduce the file\n",
    "filepath1 = 'NGS_Sequencing_Tracking_v2_2022-CURRENT.xlsx'\n",
    "filepath2 = 'NGS_Sequence_Tracking_v1_2020-10Jan2022.xlsx'\n",
    "filepath3 = 'RnaSeq_VENDOR_Tracking_Sheet_5_4_2020.xlsx'\n"
   ]
  },
  {
   "cell_type": "code",
   "execution_count": 5,
   "metadata": {},
   "outputs": [],
   "source": [
    "# Define sheet names to combine\n",
    "rna_seq_sheets = ['RNAseq_Template_Manifest', 'RNAseq_OLD_to_analyze']\n",
    "wes_sheets = ['WES_Template_Manifest', 'WES_OLD_to_analyze']"
   ]
  },
  {
   "cell_type": "code",
   "execution_count": 6,
   "metadata": {},
   "outputs": [],
   "source": [
    "# Read filepath1 to dictionary\n",
    "xl = pd.ExcelFile(filepath1)\n",
    "sheet_data = {sheet_name: xl.parse(sheet_name) for sheet_name in xl.sheet_names}"
   ]
  },
  {
   "cell_type": "code",
   "execution_count": 7,
   "metadata": {},
   "outputs": [],
   "source": [
    "# Combine RNASEQ sheets\n",
    "rna_seq_combined = pd.concat([drop_unnamed_columns(sheet_data[sheet]) for sheet in rna_seq_sheets], ignore_index=True)"
   ]
  },
  {
   "cell_type": "code",
   "execution_count": 8,
   "metadata": {},
   "outputs": [],
   "source": [
    "# Combine WES sheets\n",
    "wes_combined = pd.concat([drop_unnamed_columns(sheet_data[sheet]) for sheet in wes_sheets], ignore_index=True)"
   ]
  },
  {
   "cell_type": "code",
   "execution_count": 9,
   "metadata": {},
   "outputs": [],
   "source": [
    "# Read filepath2 to dictionary\n",
    "x2 = pd.ExcelFile(filepath2)\n",
    "sheet_data2 = x2.parse('Sheet1')"
   ]
  },
  {
   "cell_type": "code",
   "execution_count": 10,
   "metadata": {},
   "outputs": [],
   "source": [
    "# Split the data based on the 18th column\n",
    "mask = sheet_data2.iloc[:, 16].str.startswith('RNA').fillna(False)\n",
    "rna_seq_file2 = sheet_data2[mask]\n",
    "\n",
    "mask = sheet_data2.iloc[:, 16].str.startswith('WES').fillna(False)\n",
    "wes_file2 = sheet_data2[mask]"
   ]
  },
  {
   "cell_type": "code",
   "execution_count": 11,
   "metadata": {},
   "outputs": [],
   "source": [
    "# wes_data = sheet_data2[sheet_data2['Panel'] == \"SureSelect Human All Exon V7\"] \n",
    "# Another way to split data based on NGS data column, (more specific and efficient)"
   ]
  },
  {
   "cell_type": "code",
   "execution_count": 12,
   "metadata": {},
   "outputs": [],
   "source": [
    "# wes_data"
   ]
  },
  {
   "cell_type": "code",
   "execution_count": 13,
   "metadata": {},
   "outputs": [],
   "source": [
    "# rna_data = sheet_data2[sheet_data2['Panel'] == ] "
   ]
  },
  {
   "cell_type": "code",
   "execution_count": 14,
   "metadata": {},
   "outputs": [],
   "source": [
    "# rna_data"
   ]
  },
  {
   "cell_type": "code",
   "execution_count": 15,
   "metadata": {},
   "outputs": [],
   "source": [
    "x3 = pd.ExcelFile(filepath3)\n",
    "sheet_data3 = x3.parse('RnaSeq_VENDOR_Tracking_Sheet_5_')"
   ]
  },
  {
   "cell_type": "code",
   "execution_count": 16,
   "metadata": {},
   "outputs": [],
   "source": [
    "# filter \n",
    "rna_vendor = sheet_data3[sheet_data3['RNASeq.pipeline.status'] == 'Complete']"
   ]
  },
  {
   "cell_type": "code",
   "execution_count": 17,
   "metadata": {},
   "outputs": [],
   "source": [
    "rna_vendor.to_csv('RNA_Vendor_V2.csv', index=False)"
   ]
  },
  {
   "cell_type": "code",
   "execution_count": 18,
   "metadata": {},
   "outputs": [],
   "source": [
    "rna_seq_combined.to_csv('RNA_SEQ_Tracking_Current.csv', index=False)\n",
    "wes_combined.to_csv('WES_Tracking_Current.csv', index=False)"
   ]
  },
  {
   "cell_type": "code",
   "execution_count": 19,
   "metadata": {},
   "outputs": [],
   "source": [
    "rna_seq_file2.to_csv('RNA_SEQ_Tracking_Old.csv', index=False)\n",
    "wes_file2.to_csv('WES_Tracking_Old.csv', index=False)"
   ]
  },
  {
   "cell_type": "markdown",
   "metadata": {},
   "source": [
    "# Combining Old and New Tracking Sheets"
   ]
  },
  {
   "cell_type": "code",
   "execution_count": 20,
   "metadata": {},
   "outputs": [],
   "source": [
    "# Define paths\n",
    "rna_seq_current_path = 'RNA_SEQ_Tracking_Current.csv'\n",
    "rna_seq_old_path = 'RNA_SEQ_Tracking_Old.csv'"
   ]
  },
  {
   "cell_type": "code",
   "execution_count": 21,
   "metadata": {},
   "outputs": [],
   "source": [
    "wes_current_path = 'WES_Tracking_Current.csv'\n",
    "wes_old_path = 'WES_Tracking_Old.csv'"
   ]
  },
  {
   "cell_type": "code",
   "execution_count": 22,
   "metadata": {},
   "outputs": [],
   "source": [
    "rna_seq_current_df = read_csv_with_na(rna_seq_current_path)\n",
    "rna_seq_old_df = read_csv_with_na(rna_seq_old_path)"
   ]
  },
  {
   "cell_type": "code",
   "execution_count": 23,
   "metadata": {},
   "outputs": [],
   "source": [
    "wes_current_df = read_csv_with_na(wes_current_path)\n",
    "wes_old_df = read_csv_with_na(wes_old_path)"
   ]
  },
  {
   "cell_type": "code",
   "execution_count": 24,
   "metadata": {},
   "outputs": [],
   "source": [
    "# Combine df w/ alike headers\n",
    "rna_seq_combined = pd.concat([rna_seq_current_df, rna_seq_old_df, rna_vendor], ignore_index=True, sort=False)"
   ]
  },
  {
   "cell_type": "code",
   "execution_count": 25,
   "metadata": {},
   "outputs": [],
   "source": [
    "wes_combined = pd.concat([wes_current_df, wes_old_df], ignore_index=True, sort=False)"
   ]
  },
  {
   "cell_type": "code",
   "execution_count": 26,
   "metadata": {},
   "outputs": [],
   "source": [
    "rna_seq_combined['Sample_Name'] = rna_seq_combined['Sample_Name'].combine_first(rna_seq_combined['Model'])\n",
    "\n",
    "# drop column\n",
    "rna_seq_combined.drop(columns=['Model'], inplace=True)"
   ]
  },
  {
   "cell_type": "code",
   "execution_count": 27,
   "metadata": {},
   "outputs": [],
   "source": [
    "# Combining WES Headers"
   ]
  },
  {
   "cell_type": "code",
   "execution_count": 28,
   "metadata": {},
   "outputs": [],
   "source": [
    "wes_combined['Sample_Name'] = wes_combined['Sample_Name'].combine_first(wes_combined['Model'])\n",
    "\n",
    "# drop column\n",
    "wes_combined.drop(columns=['Model'], inplace=True)"
   ]
  },
  {
   "cell_type": "code",
   "execution_count": 30,
   "metadata": {},
   "outputs": [],
   "source": [
    "rna_seq_combined = rna_seq_combined.fillna('N/A')\n",
    "wes_combined = wes_combined.fillna('N/A')\n",
    "\n",
    "# Save \n",
    "rna_seq_combined.to_csv('RNA_SEQ_Final.csv', index=False)\n",
    "wes_combined.to_csv('WES_Final.csv', index=False)"
   ]
  }
 ],
 "metadata": {
  "interpreter": {
   "hash": "e7808cf71576e874c98d0ff51923ab11b5a93b52e10a27b0f9851ce3a22e934f"
  },
  "kernelspec": {
   "display_name": "Python 3 (ipykernel)",
   "language": "python",
   "name": "python3"
  },
  "language_info": {
   "codemirror_mode": {
    "name": "ipython",
    "version": 3
   },
   "file_extension": ".py",
   "mimetype": "text/x-python",
   "name": "python",
   "nbconvert_exporter": "python",
   "pygments_lexer": "ipython3",
   "version": "3.9.12"
  }
 },
 "nbformat": 4,
 "nbformat_minor": 2
}
